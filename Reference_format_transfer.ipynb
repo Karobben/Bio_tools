{
 "cells": [
  {
   "cell_type": "code",
   "execution_count": 1,
   "id": "8eb91908",
   "metadata": {},
   "outputs": [],
   "source": [
    "import json"
   ]
  },
  {
   "cell_type": "code",
   "execution_count": 2,
   "id": "9604d455",
   "metadata": {},
   "outputs": [],
   "source": [
    "X = \"@article{sun1960analysis, title={Analysis of joint action of insecticides against house flies}, author={Sun, Yun-Pei and Johnson, EoRo}, journal={Journal of economic entomology}, volume={53}, number={5}, pages={887--892}, year={1960}, publisher={Oxford University Press Oxford, UK} }\""
   ]
  },
  {
   "cell_type": "code",
   "execution_count": 3,
   "id": "ffd00013",
   "metadata": {},
   "outputs": [],
   "source": [
    "def BibTeX_Dic(X):\n",
    "\tX = X.replace(\"@article\", \"\")\n",
    "\tCite_id = X[:X.find(\",\")].replace(\"{\",\"\")\n",
    "\tX = X.replace(Cite_id+\", \",\"\")\n",
    "\tX = X.replace(\"={\",'\":\"').replace(\"}, \", '\", \"')[:-2]\n",
    "\tX = '{\"' + X[1:-1] + '\"}'\n",
    "\tCite_P = json.loads(X)\n",
    "\tCite_P['author'] = Cite_P['author'].split(\" and \")\n",
    "\tCite_P['pages'] = Cite_P['pages'].split(\"--\")\n",
    "\treturn Cite_P"
   ]
  },
  {
   "cell_type": "code",
   "execution_count": 4,
   "id": "5b6f273a",
   "metadata": {},
   "outputs": [],
   "source": [
    "Cite_P = BibTeX_Dic(X)"
   ]
  },
  {
   "cell_type": "code",
   "execution_count": 5,
   "id": "e7dee54a",
   "metadata": {},
   "outputs": [
    {
     "name": "stdout",
     "output_type": "stream",
     "text": [
      "Sun, Yun-Pei, and Johnson, EoRo. \"Analysis of joint action of insecticides against house flies.\" Journal of economic entomology 53.5 (1960): 887-892\n"
     ]
    }
   ],
   "source": [
    "Format = \"MLA\"\n",
    "if Format == \"MLA\":\n",
    "    Author = \", and \".join([i for i in Cite_P['author']])\n",
    "    Result = [Author + '. \"' + \n",
    "        Cite_P['title'] +'.\" ' + \n",
    "        Cite_P['journal'] + \" \" + \n",
    "        Cite_P['volume'] +\".\"+ \n",
    "        Cite_P['number'] + \" (\"+\n",
    "        Cite_P['year']+\"): \"+\n",
    "        Cite_P['pages'][0] +\"-\"+ Cite_P['pages'][1]\n",
    "    ]\n",
    "print(Result[0])"
   ]
  },
  {
   "cell_type": "code",
   "execution_count": 6,
   "id": "f0d093b4",
   "metadata": {},
   "outputs": [
    {
     "name": "stdout",
     "output_type": "stream",
     "text": [
      "Sun, Y. P., & Johnson, E. (1960). \"Analysis of joint action of insecticides against house flies.\" Journal of economic entomology, 53(5), 887-892\n"
     ]
    }
   ],
   "source": [
    "Format = \"APA\"\n",
    "if Format == \"APA\":\n",
    "    Author = []\n",
    "    for i in Cite_P['author']:\n",
    "        # chinese name with \"-\":\n",
    "        N_fam = i.split(\", \")[0]\n",
    "        N_giv = i.split(\", \")[1]\n",
    "        if \"-\" in i:\n",
    "            N_giv = \" \".join([i[0]+\".\" for i in N_giv.split(\"-\")])\n",
    "            Author += [N_fam +\", \"+N_giv]\n",
    "\n",
    "        elif \" \" not in N_giv:\n",
    "            Author += [N_fam +\", \"+N_giv[0]+\".\"]\n",
    "        Result = [\", & \".join(Author) + \" (\" +\n",
    "                  Cite_P['year'] + '). \"'+\n",
    "                  Cite_P['title'] + '.\" ' +\n",
    "                  Cite_P['journal'] + \", \"+\n",
    "                  Cite_P['volume'] +\"(\"+ \n",
    "                  Cite_P['number'] + \"), \"+\n",
    "                  Cite_P['pages'][0] +\"-\"+ Cite_P['pages'][1]\n",
    "                 ]\n",
    "print(Result[0])"
   ]
  },
  {
   "cell_type": "code",
   "execution_count": null,
   "id": "9da000f7",
   "metadata": {},
   "outputs": [],
   "source": []
  }
 ],
 "metadata": {
  "kernelspec": {
   "display_name": "Python 3 (ipykernel)",
   "language": "python",
   "name": "python3"
  },
  "language_info": {
   "codemirror_mode": {
    "name": "ipython",
    "version": 3
   },
   "file_extension": ".py",
   "mimetype": "text/x-python",
   "name": "python",
   "nbconvert_exporter": "python",
   "pygments_lexer": "ipython3",
   "version": "3.8.10"
  }
 },
 "nbformat": 4,
 "nbformat_minor": 5
}
