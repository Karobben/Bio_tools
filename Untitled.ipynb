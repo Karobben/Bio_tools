{
 "cells": [
  {
   "cell_type": "code",
   "execution_count": 83,
   "id": "22c777dc",
   "metadata": {},
   "outputs": [],
   "source": [
    "import requests \n",
    "import hashlib\n",
    "import random\n",
    "\n",
    "appid = 'xxx'  # 你的appid\n",
    "secretKey = 'xxx'  # 你的密钥\n",
    "\n",
    "def baidu_fanyi(query):\n",
    "    salt = random.randint(1, 10)  # 随机数\n",
    "    code = appid + query + str(salt) + secretKey\n",
    "    sign = hashlib.md5(code.encode()).hexdigest()  # 签名\n",
    "\n",
    "\n",
    "    try:\n",
    "        result = response.json()\n",
    "        dst = result.get(\"trans_result\")[0].get(\"dst\")\n",
    "\n",
    "    except Exception as e:\n",
    "        dst = query\n",
    "\n",
    "    finally:\n",
    "        return dst\n",
    "\n",
    "#if __name__ == '__main__':\n",
    "#    query =\"Apple\"\n",
    "#    ret = baidu_fanyi(query)\n",
    "    print(ret)\n",
    "    # 苹果\n"
   ]
  },
  {
   "cell_type": "code",
   "execution_count": 89,
   "id": "762639f0",
   "metadata": {},
   "outputs": [
    {
     "name": "stdout",
     "output_type": "stream",
     "text": [
      "===============================\n",
      "please input a word: what\n",
      "-------------------------------\n",
      "[en to zh]\n",
      "\n",
      "===============================\n"
     ]
    }
   ],
   "source": [
    "import requests \n",
    "import json \n",
    "def trans(): \n",
    "    userAgent = \"Mozilla/5.0 (iPhone; CPU iPhone OS 11_0 like Mac OS X) AppleWebKit/604.1.38 (KHTML, like Gecko) Version/11.0 Mobile/15A372 Safari/604.1\"\n",
    "    header = { \"Host\": \"fanyi.baidu.com\", \"Origin\": \"http://fanyi.baidu.com\", \"User-Agent\": userAgent }\n",
    "    postUrl=\"http://fanyi.baidu.com/basetrans\"\n",
    "    wd = input(\"please input a word: \")\n",
    "    print('-------------------------------')\n",
    "    if wd == '': \n",
    "        trans() \n",
    "        return\n",
    "    for c in wd: \n",
    "        if c < u'\\u4e00' or c > u'\\u9fa5': \n",
    "            print('[en to zh]\\n') \n",
    "            mdata = { \"from\":\"en\", \"to\":\"zh\", \"query\" : wd } \n",
    "            break\n",
    "        elif c == wd[-1]:\n",
    "            print('[zh to en]\\n')\n",
    "            mdata = { \"from\":\"zh\", \"to\":\"en\", \"query\" : wd }\n",
    "        try: \n",
    "            response = requests.post(postUrl, data = mdata, headers = header)\n",
    "        except: \n",
    "            print('connect error!') \n",
    "            return 1 \n",
    "        result = response.text \n",
    "        result=json.loads(result) \n",
    "        if len(result[\"dict\"]) == 0: \n",
    "            print('is null') \n",
    "        else: \n",
    "            try: \n",
    "                for i in result[\"dict\"][\"word_means\"]: \n",
    "                    print('> '+ i) \n",
    "            except KeyError: \n",
    "                print('key is null') \n",
    "        \n",
    "if __name__ == \"__main__\": \n",
    "    print(\"===============================\") \n",
    "    trans() \n",
    "    print(\"===============================\")"
   ]
  },
  {
   "cell_type": "code",
   "execution_count": 91,
   "id": "bb425653",
   "metadata": {},
   "outputs": [],
   "source": [
    "userAgent = \"Mozilla/5.0 (iPhone; CPU iPhone OS 11_0 like Mac OS X) AppleWebKit/604.1.38 (KHTML, like Gecko) Version/11.0 Mobile/15A372 Safari/604.1\"\n",
    "header = { \"Host\": \"fanyi.baidu.com\", \"Origin\": \"http://fanyi.baidu.com\", \"User-Agent\": userAgent }\n",
    "postUrl=\"http://fanyi.baidu.com/basetrans\"\n",
    "wd = \"What\"\n",
    "mdata = { \"from\":\"en\", \"to\":\"zh\", \"query\" : wd } \n",
    "response = requests.post(postUrl, data = mdata, headers = header)"
   ]
  },
  {
   "cell_type": "code",
   "execution_count": 92,
   "id": "cca016de",
   "metadata": {},
   "outputs": [
    {
     "data": {
      "text/plain": [
       "'{\"errno\":999,\"errmsg\":\"\\\\u672a\\\\u77e5\\\\u9519\\\\u8bef\",\"error\":999}'"
      ]
     },
     "execution_count": 92,
     "metadata": {},
     "output_type": "execute_result"
    }
   ],
   "source": [
    "response.text "
   ]
  },
  {
   "cell_type": "code",
   "execution_count": 78,
   "id": "975f7422",
   "metadata": {},
   "outputs": [
    {
     "data": {
      "text/plain": [
       "'番茄植株中黄酮类对菜青虫(Pieris rapae L.) 的活'"
      ]
     },
     "execution_count": 78,
     "metadata": {},
     "output_type": "execute_result"
    }
   ],
   "source": []
  },
  {
   "cell_type": "code",
   "execution_count": 13,
   "id": "1dd4a22e",
   "metadata": {
    "collapsed": true
   },
   "outputs": [
    {
     "name": "stdout",
     "output_type": "stream",
     "text": [
      "length: 3238\n",
      "239\n",
      "gi|1536072811|ref|XM_027369757.1| PREDICTED: Penaeus vannamei uncharacterized LOC113817680 (LOC113817680), mRNA\n",
      "length: 4995\n",
      "232\n",
      "gi|1890575587|ref|XM_022104557.2| PREDICTED: Folsomia candida sex determination protein fruitless (LOC110856116), transcript variant X4, mRNA\n",
      "length: 3468\n",
      "232\n",
      "gi|1890575577|ref|XM_022104556.2| PREDICTED: Folsomia candida sex determination protein fruitless (LOC110856116), transcript variant X3, mRNA\n",
      "length: 2490\n",
      "232\n",
      "gi|1890575569|ref|XR_004836230.1| PREDICTED: Folsomia candida sex determination protein fruitless (LOC110856116), transcript variant X2, misc_RNA\n",
      "length: 2861\n",
      "232\n",
      "gi|1890575560|ref|XR_004836229.1| PREDICTED: Folsomia candida sex determination protein fruitless (LOC110856116), transcript variant X1, misc_RNA\n",
      "length: 753\n",
      "231\n",
      "length: 790\n",
      "231\n",
      "length: 3348\n",
      "246\n",
      "gi|1935981117|ref|XM_037944882.1| PREDICTED: Penaeus monodon histone-lysine N-methyltransferase MECOM-like (LOC119595748), transcript variant X4, mRNA\n",
      "length: 3486\n",
      "246\n",
      "gi|1935981115|ref|XM_037944881.1| PREDICTED: Penaeus monodon histone-lysine N-methyltransferase MECOM-like (LOC119595748), transcript variant X3, mRNA\n",
      "length: 3849\n",
      "246\n",
      "gi|1935981113|ref|XM_037944880.1| PREDICTED: Penaeus monodon histone-lysine N-methyltransferase MECOM-like (LOC119595748), transcript variant X2, mRNA\n",
      "length: 3552\n",
      "246\n",
      "gi|1935981111|ref|XM_037944879.1| PREDICTED: Penaeus monodon histone-lysine N-methyltransferase MECOM-like (LOC119595748), transcript variant X1, mRNA\n",
      "length: 2474\n",
      "79\n",
      "gi|23273020|gb|BC035839.1| Homo sapiens MAGE-like 2, mRNA (cDNA clone IMAGE:5727738), partial cds\n",
      "length: 3268\n",
      "280\n",
      "gi|1929176473|ref|XM_037227986.1| PREDICTED: Pollicipes pollicipes protein bric-a-brac 1-like (LOC119104290), mRNA\n",
      "length: 1013\n",
      "93\n",
      "length: 2200\n",
      "93\n",
      "gi|1929139794|ref|XM_037238352.1| PREDICTED: Pollicipes pollicipes protein jim lovell-like (LOC119114102), mRNA\n",
      "length: 2549\n",
      "184\n",
      "gi|2175877567|ref|XM_045739240.1| PREDICTED: Procambarus clarkii protein tramtrack, alpha isoform-like (LOC123756164), transcript variant X5, mRNA\n",
      "length: 3203\n",
      "184\n",
      "gi|2175877565|ref|XM_045739239.1| PREDICTED: Procambarus clarkii protein tramtrack, alpha isoform-like (LOC123756164), transcript variant X4, mRNA\n",
      "length: 3154\n",
      "184\n",
      "gi|2175877563|ref|XM_045739238.1| PREDICTED: Procambarus clarkii protein tramtrack, alpha isoform-like (LOC123756164), transcript variant X3, mRNA\n",
      "length: 4619\n",
      "184\n",
      "gi|2175877561|ref|XM_045739237.1| PREDICTED: Procambarus clarkii protein tramtrack, alpha isoform-like (LOC123756164), transcript variant X2, mRNA\n",
      "length: 3610\n",
      "184\n",
      "gi|2175877559|ref|XM_045739235.1| PREDICTED: Procambarus clarkii protein tramtrack, alpha isoform-like (LOC123756164), transcript variant X1, mRNA\n",
      "length: 62717774\n",
      "90\n",
      "length: 39034921\n",
      "121\n",
      "length: 3087\n",
      "254\n",
      "gi|2068741336|ref|XM_042355396.1| PREDICTED: Homarus americanus uncharacterized LOC121858769 (LOC121858769), mRNA\n",
      "length: 2066\n",
      "94\n",
      "gi|1929179525|ref|XM_037229612.1| PREDICTED: Pollicipes pollicipes zinc finger protein 534-like (LOC119106016), mRNA\n",
      "length: 2477\n",
      "64\n",
      "gi|21961525|gb|BC034692.1| Homo sapiens anillin, actin binding protein, mRNA (cDNA clone IMAGE:4753061), complete cds\n",
      "length: 41875499\n",
      "66\n",
      "length: 3512389\n",
      "92\n",
      "length: 3512389\n",
      "68\n",
      "length: 351\n",
      "93\n",
      "length: 834\n",
      "93\n",
      "length: 1294\n",
      "93\n",
      "length: 52992041\n",
      "80\n",
      "length: 27111266\n",
      "74\n",
      "length: 2279\n",
      "276\n",
      "gi|1067139031|gb|KX802710.1| Synthetic construct clone BS10820 lola-RD (lola) gene, complete cds\n",
      "length: 1844\n",
      "276\n",
      "length: 1843\n",
      "276\n",
      "length: 2155\n",
      "276\n",
      "gi|220952741|gb|FJ634655.1| Synthetic construct Drosophila melanogaster clone BS01603 encodes lola-RA\n",
      "length: 2278\n",
      "276\n",
      "gi|220947493|gb|FJ632031.1| Synthetic construct Drosophila melanogaster clone BO11220 encodes lola-RD\n",
      "length: 2152\n",
      "276\n",
      "gi|220942525|gb|FJ629547.1| Synthetic construct Drosophila melanogaster clone BO01604 encodes lola-RA >gi|1067123553|gb|KX797013.1| Synthetic construct clone BO04452 lola-RA (lola) gene, partial cds\n",
      "length: 37073583\n",
      "64\n",
      "length: 55942399\n",
      "65\n",
      "length: 56529048\n",
      "82\n",
      "length: 73203386\n",
      "59\n",
      "length: 73203386\n",
      "96\n",
      "length: 1432\n",
      "66\n",
      "length: 56207537\n",
      "64\n",
      "length: 1358\n",
      "91\n",
      "length: 1972\n",
      "91\n",
      "length: 2186\n",
      "91\n",
      "gi|2087247725|ref|XM_043388879.1| PREDICTED: Amphibalanus amphitrite broad-complex core protein-like (LOC122393147), transcript variant X27, mRNA\n",
      "length: 1281\n",
      "91\n",
      "length: 1284\n",
      "91\n",
      "length: 1293\n",
      "91\n"
     ]
    }
   ],
   "source": [
    "for alignment in item.alignments:\n",
    "    for hsp in alignment.hsps:\n",
    "        if hsp.expect < 0.01:\n",
    "            #print('****Alignment****')\n",
    "            #print('sequence:', alignment.title)\n",
    "            print('length:', alignment.length)\n",
    "            #print('score:', hsp.score)\n",
    "            #print(hsp.query[0:90] + '...')\n",
    "            #print(hsp.match[0:90] + '...')\n",
    "            #print(hsp.sbjct[0:90] + '...')\n",
    "            print(len(hsp.sbjct))\n",
    "            if alignment.length <= len_max and alignment.length >= len_min:\n",
    "                print(alignment.title)"
   ]
  },
  {
   "cell_type": "code",
   "execution_count": 1,
   "id": "aeed0c94",
   "metadata": {},
   "outputs": [
    {
     "ename": "NameError",
     "evalue": "name 'requests' is not defined",
     "output_type": "error",
     "traceback": [
      "\u001b[0;31m---------------------------------------------------------------------------\u001b[0m",
      "\u001b[0;31mNameError\u001b[0m                                 Traceback (most recent call last)",
      "\u001b[0;32m/tmp/ipykernel_87669/3146635432.py\u001b[0m in \u001b[0;36m<module>\u001b[0;34m\u001b[0m\n\u001b[0;32m----> 1\u001b[0;31m \u001b[0mhtml\u001b[0m \u001b[0;34m=\u001b[0m \u001b[0mrequests\u001b[0m\u001b[0;34m.\u001b[0m\u001b[0mget\u001b[0m\u001b[0;34m(\u001b[0m\u001b[0;34m\"https://scholar.google.com/scholar?hl=zh-CN&as_sdt=0%2C19&as_vis=1&q=\"\u001b[0m \u001b[0;34m+\u001b[0m \u001b[0mSP\u001b[0m\u001b[0;34m.\u001b[0m\u001b[0mreplace\u001b[0m\u001b[0;34m(\u001b[0m\u001b[0;34m\" \"\u001b[0m\u001b[0;34m,\u001b[0m \u001b[0;34m\"+\"\u001b[0m\u001b[0;34m)\u001b[0m\u001b[0;34m+\u001b[0m  \u001b[0;34m\"+%E4%B8%AD%E6%96%87&btnG=\"\u001b[0m\u001b[0;34m)\u001b[0m\u001b[0;34m\u001b[0m\u001b[0;34m\u001b[0m\u001b[0m\n\u001b[0m\u001b[1;32m      2\u001b[0m \u001b[0mtmp_list\u001b[0m \u001b[0;34m=\u001b[0m \u001b[0;34m[\u001b[0m\u001b[0mi\u001b[0m \u001b[0;32mfor\u001b[0m \u001b[0mi\u001b[0m \u001b[0;32min\u001b[0m \u001b[0mhtml\u001b[0m\u001b[0;34m.\u001b[0m\u001b[0mtext\u001b[0m\u001b[0;34m.\u001b[0m\u001b[0msplit\u001b[0m\u001b[0;34m(\u001b[0m\u001b[0;34m'<h3 class=\"gs_rt\" '\u001b[0m\u001b[0;34m)\u001b[0m \u001b[0;32mif\u001b[0m \u001b[0mSP\u001b[0m \u001b[0;32min\u001b[0m \u001b[0mi\u001b[0m\u001b[0;34m]\u001b[0m\u001b[0;34m\u001b[0m\u001b[0;34m\u001b[0m\u001b[0m\n\u001b[1;32m      3\u001b[0m \u001b[0mResult_tmp\u001b[0m \u001b[0;34m=\u001b[0m \u001b[0;34m[\u001b[0m\u001b[0;32mNone\u001b[0m\u001b[0;34m]\u001b[0m\u001b[0;34m\u001b[0m\u001b[0;34m\u001b[0m\u001b[0m\n\u001b[1;32m      4\u001b[0m \u001b[0;32mfor\u001b[0m \u001b[0mi\u001b[0m \u001b[0;32min\u001b[0m \u001b[0mtmp_list\u001b[0m\u001b[0;34m:\u001b[0m\u001b[0;34m\u001b[0m\u001b[0;34m\u001b[0m\u001b[0m\n\u001b[1;32m      5\u001b[0m     \u001b[0mitem\u001b[0m \u001b[0;34m=\u001b[0m \u001b[0mi\u001b[0m\u001b[0;34m[\u001b[0m\u001b[0;36m0\u001b[0m\u001b[0;34m:\u001b[0m\u001b[0;34m(\u001b[0m\u001b[0mi\u001b[0m\u001b[0;34m.\u001b[0m\u001b[0mfind\u001b[0m\u001b[0;34m(\u001b[0m\u001b[0mSP\u001b[0m\u001b[0;34m)\u001b[0m\u001b[0;34m+\u001b[0m\u001b[0mlen\u001b[0m\u001b[0;34m(\u001b[0m\u001b[0mSP\u001b[0m\u001b[0;34m)\u001b[0m\u001b[0;34m+\u001b[0m\u001b[0;36m8\u001b[0m\u001b[0;34m)\u001b[0m\u001b[0;34m]\u001b[0m\u001b[0;34m.\u001b[0m\u001b[0mreplace\u001b[0m\u001b[0;34m(\u001b[0m\u001b[0;34m\"<b>\"\u001b[0m\u001b[0;34m,\u001b[0m\u001b[0;34m\"\"\u001b[0m\u001b[0;34m)\u001b[0m\u001b[0;34m.\u001b[0m\u001b[0mreplace\u001b[0m\u001b[0;34m(\u001b[0m\u001b[0;34m\"</b>\"\u001b[0m\u001b[0;34m,\u001b[0m\u001b[0;34m\"\"\u001b[0m\u001b[0;34m)\u001b[0m\u001b[0;34m.\u001b[0m\u001b[0msplit\u001b[0m\u001b[0;34m(\u001b[0m\u001b[0;34m\">\"\u001b[0m\u001b[0;34m)\u001b[0m\u001b[0;34m[\u001b[0m\u001b[0;34m-\u001b[0m\u001b[0;36m1\u001b[0m\u001b[0;34m]\u001b[0m\u001b[0;34m\u001b[0m\u001b[0;34m\u001b[0m\u001b[0m\n",
      "\u001b[0;31mNameError\u001b[0m: name 'requests' is not defined"
     ]
    }
   ],
   "source": [
    "html = requests.get(\"https://scholar.google.com/scholar?hl=zh-CN&as_sdt=0%2C19&as_vis=1&q=\" + SP.replace(\" \", \"+\")+  \"+%E4%B8%AD%E6%96%87&btnG=\")\n",
    "tmp_list = [i for i in html.text.split('<h3 class=\"gs_rt\" ') if SP in i]\n",
    "Result_tmp = [None]\n",
    "for i in tmp_list:\n",
    "    item = i[0:(i.find(SP)+len(SP)+8)].replace(\"<b>\",\"\").replace(\"</b>\",\"\").split(\">\")[-1]\n",
    "    if \"中文\" not in item:\n",
    "        if is_chinese(item):\n",
    "            Result_tmp += [item]\n",
    "print(\":\",SP,\":\", Result_tmp[-1])"
   ]
  },
  {
   "cell_type": "code",
   "execution_count": 101,
   "id": "38a0cdc9",
   "metadata": {},
   "outputs": [],
   "source": [
    "html = \"http://www.cfh.ac.cn/Spdb/spsearch.aspx?aname=Glycine%20soja\""
   ]
  },
  {
   "cell_type": "code",
   "execution_count": 102,
   "id": "24d6db0b",
   "metadata": {},
   "outputs": [],
   "source": [
    "from urllib.request import urlopen\n",
    "from bs4 import BeautifulSoup\n",
    "\n",
    "html = urlopen(html).read().decode('utf-8')\n",
    "soup = BeautifulSoup(html, features='lxml')\n"
   ]
  },
  {
   "cell_type": "code",
   "execution_count": 110,
   "id": "2935ded1",
   "metadata": {
    "collapsed": true
   },
   "outputs": [
    {
     "data": {
      "text/plain": [
       "[<table width=\"100%\">\n",
       " <tr>\n",
       " <td width=\"auto\"></td>\n",
       " <td width=\"600px;\">\n",
       " <table style=\"width:540px; margin:30px;\">\n",
       " <tr>\n",
       " <td align=\"center\" colspan=\"3\"><img alt=\"CFH Search\" src=\"../Images/SpSearchLogo.gif\" style=\"border:none;\"/></td>\n",
       " </tr>\n",
       " <tr>\n",
       " <td colspan=\"3\" id=\"search_tips\" style=\"font-size:12px; text-align:center;\">键入拉丁学名或者中文名称均可，例如：Acer 或 枫树</td>\n",
       " </tr>\n",
       " <tr>\n",
       " <td align=\"right\" style=\"width:80px; font-size:14px;\">\n",
       "             名称\n",
       "         </td>\n",
       " <td align=\"left\" valign=\"top\">\n",
       " <input id=\"txtSearchName\" style=\"width:400px;height:22px;\" value=\"\"/>\n",
       " </td>\n",
       " <td align=\"left\" style=\"width:60px;\" valign=\"bottom\">\n",
       " <a href=\"/Spdb/spsearch.aspx\" target=\"_self\"><span style=\"color:Blue;\">【旧版】</span></a>\n",
       " </td>\n",
       " </tr>\n",
       " <tr>\n",
       " <td align=\"center\" colspan=\"3\">\n",
       " <div id=\"QueryCmd\" onclick=\"QuerySp();\" style=\"padding:3px 10px; border:solid 1px #333;cursor:pointer; text-align:center; width:40px;margin:3px; margin-left:160px; font-size:14px; float:left;\">查询</div>\n",
       " <div id=\"FuzzyQueryCmd\" onclick=\"FuzzyQuerySp();\" style=\"padding:3px 10px; border:solid 1px #333;cursor:pointer; text-align:center; width:80px; margin:3px;font-size:14px; float:left;\">模糊查询</div>\n",
       " </td>\n",
       " </tr>\n",
       " </table>\n",
       " </td>\n",
       " <td width=\"auto\"></td>\n",
       " </tr>\n",
       " </table>,\n",
       " <table style=\"width:540px; margin:30px;\">\n",
       " <tr>\n",
       " <td align=\"center\" colspan=\"3\"><img alt=\"CFH Search\" src=\"../Images/SpSearchLogo.gif\" style=\"border:none;\"/></td>\n",
       " </tr>\n",
       " <tr>\n",
       " <td colspan=\"3\" id=\"search_tips\" style=\"font-size:12px; text-align:center;\">键入拉丁学名或者中文名称均可，例如：Acer 或 枫树</td>\n",
       " </tr>\n",
       " <tr>\n",
       " <td align=\"right\" style=\"width:80px; font-size:14px;\">\n",
       "             名称\n",
       "         </td>\n",
       " <td align=\"left\" valign=\"top\">\n",
       " <input id=\"txtSearchName\" style=\"width:400px;height:22px;\" value=\"\"/>\n",
       " </td>\n",
       " <td align=\"left\" style=\"width:60px;\" valign=\"bottom\">\n",
       " <a href=\"/Spdb/spsearch.aspx\" target=\"_self\"><span style=\"color:Blue;\">【旧版】</span></a>\n",
       " </td>\n",
       " </tr>\n",
       " <tr>\n",
       " <td align=\"center\" colspan=\"3\">\n",
       " <div id=\"QueryCmd\" onclick=\"QuerySp();\" style=\"padding:3px 10px; border:solid 1px #333;cursor:pointer; text-align:center; width:40px;margin:3px; margin-left:160px; font-size:14px; float:left;\">查询</div>\n",
       " <div id=\"FuzzyQueryCmd\" onclick=\"FuzzyQuerySp();\" style=\"padding:3px 10px; border:solid 1px #333;cursor:pointer; text-align:center; width:80px; margin:3px;font-size:14px; float:left;\">模糊查询</div>\n",
       " </td>\n",
       " </tr>\n",
       " </table>]"
      ]
     },
     "execution_count": 110,
     "metadata": {},
     "output_type": "execute_result"
    }
   ],
   "source": [
    "soup.find_all(\"table\")"
   ]
  },
  {
   "cell_type": "code",
   "execution_count": 129,
   "id": "34017611",
   "metadata": {},
   "outputs": [],
   "source": [
    "url = 'http://www.cfh.ac.cn/Spdb/spsearch.aspx?aname=Glycine%20soja'\n",
    "\n",
    "header = {\n",
    "    \"Accept\": \"application/json, text/javascript, */*; q=0.01\",\n",
    "    \"Accept-Encoding\": \"gzip, deflate\",\n",
    "    \"Accept-Language\":\"en-US,en;q=0.5\", \n",
    "    \"Connection\": \"keep-alive\",\n",
    "    \"Cookie\" :\"AspxAutoDetectCookieSupport=1; CFH_Cookie=mrjwgu45n2d0ep3vuuihdwys; Hm_lvt_17100a428da6da3b4e5da32712ca72c3=1642872841,1642872917; Hm_lpvt_17100a428da6da3b4e5da32712ca72c3=1642873385\",\n",
    "    \"Host\" : \"www.cfh.ac.cn\",\n",
    "    \"Referer\" : \"http://www.cfh.ac.cn/Spdb/spsearch.aspx?aname=Glycine%20soja\",\n",
    "    \"User-Agent\": \"Mozilla/5.0 (X11; Ubuntu; Linux x86_64; rv:96.0) Gecko/20100101 Firefox/96.0\",\n",
    "    \"X-Requested-With\": \"XMLHttpRequest\"\n",
    "}\n",
    "\n",
    "response = requests.post(url, headers = header)\n"
   ]
  },
  {
   "cell_type": "code",
   "execution_count": 131,
   "id": "da5fea9d",
   "metadata": {
    "collapsed": true
   },
   "outputs": [
    {
     "ename": "JSONDecodeError",
     "evalue": "Expecting value: line 3 column 1 (char 4)",
     "output_type": "error",
     "traceback": [
      "\u001b[0;31m---------------------------------------------------------------------------\u001b[0m",
      "\u001b[0;31mJSONDecodeError\u001b[0m                           Traceback (most recent call last)",
      "\u001b[0;32m/tmp/ipykernel_68097/690762135.py\u001b[0m in \u001b[0;36m<module>\u001b[0;34m\u001b[0m\n\u001b[0;32m----> 1\u001b[0;31m \u001b[0mresponse\u001b[0m\u001b[0;34m.\u001b[0m\u001b[0mjson\u001b[0m\u001b[0;34m(\u001b[0m\u001b[0;34m)\u001b[0m\u001b[0;34m\u001b[0m\u001b[0;34m\u001b[0m\u001b[0m\n\u001b[0m",
      "\u001b[0;32m~/.local/lib/python3.8/site-packages/requests/models.py\u001b[0m in \u001b[0;36mjson\u001b[0;34m(self, **kwargs)\u001b[0m\n\u001b[1;32m    908\u001b[0m                     \u001b[0;31m# used.\u001b[0m\u001b[0;34m\u001b[0m\u001b[0;34m\u001b[0m\u001b[0;34m\u001b[0m\u001b[0m\n\u001b[1;32m    909\u001b[0m                     \u001b[0;32mpass\u001b[0m\u001b[0;34m\u001b[0m\u001b[0;34m\u001b[0m\u001b[0m\n\u001b[0;32m--> 910\u001b[0;31m         \u001b[0;32mreturn\u001b[0m \u001b[0mcomplexjson\u001b[0m\u001b[0;34m.\u001b[0m\u001b[0mloads\u001b[0m\u001b[0;34m(\u001b[0m\u001b[0mself\u001b[0m\u001b[0;34m.\u001b[0m\u001b[0mtext\u001b[0m\u001b[0;34m,\u001b[0m \u001b[0;34m**\u001b[0m\u001b[0mkwargs\u001b[0m\u001b[0;34m)\u001b[0m\u001b[0;34m\u001b[0m\u001b[0;34m\u001b[0m\u001b[0m\n\u001b[0m\u001b[1;32m    911\u001b[0m \u001b[0;34m\u001b[0m\u001b[0m\n\u001b[1;32m    912\u001b[0m     \u001b[0;34m@\u001b[0m\u001b[0mproperty\u001b[0m\u001b[0;34m\u001b[0m\u001b[0;34m\u001b[0m\u001b[0m\n",
      "\u001b[0;32m/usr/lib/python3/dist-packages/simplejson/__init__.py\u001b[0m in \u001b[0;36mloads\u001b[0;34m(s, encoding, cls, object_hook, parse_float, parse_int, parse_constant, object_pairs_hook, use_decimal, **kw)\u001b[0m\n\u001b[1;32m    516\u001b[0m             \u001b[0mparse_constant\u001b[0m \u001b[0;32mis\u001b[0m \u001b[0;32mNone\u001b[0m \u001b[0;32mand\u001b[0m \u001b[0mobject_pairs_hook\u001b[0m \u001b[0;32mis\u001b[0m \u001b[0;32mNone\u001b[0m\u001b[0;34m\u001b[0m\u001b[0;34m\u001b[0m\u001b[0m\n\u001b[1;32m    517\u001b[0m             and not use_decimal and not kw):\n\u001b[0;32m--> 518\u001b[0;31m         \u001b[0;32mreturn\u001b[0m \u001b[0m_default_decoder\u001b[0m\u001b[0;34m.\u001b[0m\u001b[0mdecode\u001b[0m\u001b[0;34m(\u001b[0m\u001b[0ms\u001b[0m\u001b[0;34m)\u001b[0m\u001b[0;34m\u001b[0m\u001b[0;34m\u001b[0m\u001b[0m\n\u001b[0m\u001b[1;32m    519\u001b[0m     \u001b[0;32mif\u001b[0m \u001b[0mcls\u001b[0m \u001b[0;32mis\u001b[0m \u001b[0;32mNone\u001b[0m\u001b[0;34m:\u001b[0m\u001b[0;34m\u001b[0m\u001b[0;34m\u001b[0m\u001b[0m\n\u001b[1;32m    520\u001b[0m         \u001b[0mcls\u001b[0m \u001b[0;34m=\u001b[0m \u001b[0mJSONDecoder\u001b[0m\u001b[0;34m\u001b[0m\u001b[0;34m\u001b[0m\u001b[0m\n",
      "\u001b[0;32m/usr/lib/python3/dist-packages/simplejson/decoder.py\u001b[0m in \u001b[0;36mdecode\u001b[0;34m(self, s, _w, _PY3)\u001b[0m\n\u001b[1;32m    368\u001b[0m         \u001b[0;32mif\u001b[0m \u001b[0m_PY3\u001b[0m \u001b[0;32mand\u001b[0m \u001b[0misinstance\u001b[0m\u001b[0;34m(\u001b[0m\u001b[0ms\u001b[0m\u001b[0;34m,\u001b[0m \u001b[0mbytes\u001b[0m\u001b[0;34m)\u001b[0m\u001b[0;34m:\u001b[0m\u001b[0;34m\u001b[0m\u001b[0;34m\u001b[0m\u001b[0m\n\u001b[1;32m    369\u001b[0m             \u001b[0ms\u001b[0m \u001b[0;34m=\u001b[0m \u001b[0mstr\u001b[0m\u001b[0;34m(\u001b[0m\u001b[0ms\u001b[0m\u001b[0;34m,\u001b[0m \u001b[0mself\u001b[0m\u001b[0;34m.\u001b[0m\u001b[0mencoding\u001b[0m\u001b[0;34m)\u001b[0m\u001b[0;34m\u001b[0m\u001b[0;34m\u001b[0m\u001b[0m\n\u001b[0;32m--> 370\u001b[0;31m         \u001b[0mobj\u001b[0m\u001b[0;34m,\u001b[0m \u001b[0mend\u001b[0m \u001b[0;34m=\u001b[0m \u001b[0mself\u001b[0m\u001b[0;34m.\u001b[0m\u001b[0mraw_decode\u001b[0m\u001b[0;34m(\u001b[0m\u001b[0ms\u001b[0m\u001b[0;34m)\u001b[0m\u001b[0;34m\u001b[0m\u001b[0;34m\u001b[0m\u001b[0m\n\u001b[0m\u001b[1;32m    371\u001b[0m         \u001b[0mend\u001b[0m \u001b[0;34m=\u001b[0m \u001b[0m_w\u001b[0m\u001b[0;34m(\u001b[0m\u001b[0ms\u001b[0m\u001b[0;34m,\u001b[0m \u001b[0mend\u001b[0m\u001b[0;34m)\u001b[0m\u001b[0;34m.\u001b[0m\u001b[0mend\u001b[0m\u001b[0;34m(\u001b[0m\u001b[0;34m)\u001b[0m\u001b[0;34m\u001b[0m\u001b[0;34m\u001b[0m\u001b[0m\n\u001b[1;32m    372\u001b[0m         \u001b[0;32mif\u001b[0m \u001b[0mend\u001b[0m \u001b[0;34m!=\u001b[0m \u001b[0mlen\u001b[0m\u001b[0;34m(\u001b[0m\u001b[0ms\u001b[0m\u001b[0;34m)\u001b[0m\u001b[0;34m:\u001b[0m\u001b[0;34m\u001b[0m\u001b[0;34m\u001b[0m\u001b[0m\n",
      "\u001b[0;32m/usr/lib/python3/dist-packages/simplejson/decoder.py\u001b[0m in \u001b[0;36mraw_decode\u001b[0;34m(self, s, idx, _w, _PY3)\u001b[0m\n\u001b[1;32m    398\u001b[0m             \u001b[0;32melif\u001b[0m \u001b[0mord0\u001b[0m \u001b[0;34m==\u001b[0m \u001b[0;36m0xef\u001b[0m \u001b[0;32mand\u001b[0m \u001b[0ms\u001b[0m\u001b[0;34m[\u001b[0m\u001b[0midx\u001b[0m\u001b[0;34m:\u001b[0m\u001b[0midx\u001b[0m \u001b[0;34m+\u001b[0m \u001b[0;36m3\u001b[0m\u001b[0;34m]\u001b[0m \u001b[0;34m==\u001b[0m \u001b[0;34m'\\xef\\xbb\\xbf'\u001b[0m\u001b[0;34m:\u001b[0m\u001b[0;34m\u001b[0m\u001b[0;34m\u001b[0m\u001b[0m\n\u001b[1;32m    399\u001b[0m                 \u001b[0midx\u001b[0m \u001b[0;34m+=\u001b[0m \u001b[0;36m3\u001b[0m\u001b[0;34m\u001b[0m\u001b[0;34m\u001b[0m\u001b[0m\n\u001b[0;32m--> 400\u001b[0;31m         \u001b[0;32mreturn\u001b[0m \u001b[0mself\u001b[0m\u001b[0;34m.\u001b[0m\u001b[0mscan_once\u001b[0m\u001b[0;34m(\u001b[0m\u001b[0ms\u001b[0m\u001b[0;34m,\u001b[0m \u001b[0midx\u001b[0m\u001b[0;34m=\u001b[0m\u001b[0m_w\u001b[0m\u001b[0;34m(\u001b[0m\u001b[0ms\u001b[0m\u001b[0;34m,\u001b[0m \u001b[0midx\u001b[0m\u001b[0;34m)\u001b[0m\u001b[0;34m.\u001b[0m\u001b[0mend\u001b[0m\u001b[0;34m(\u001b[0m\u001b[0;34m)\u001b[0m\u001b[0;34m)\u001b[0m\u001b[0;34m\u001b[0m\u001b[0;34m\u001b[0m\u001b[0m\n\u001b[0m",
      "\u001b[0;31mJSONDecodeError\u001b[0m: Expecting value: line 3 column 1 (char 4)"
     ]
    }
   ],
   "source": [
    "response.json()"
   ]
  },
  {
   "cell_type": "code",
   "execution_count": null,
   "id": "5bafef52",
   "metadata": {},
   "outputs": [],
   "source": []
  }
 ],
 "metadata": {
  "kernelspec": {
   "display_name": "Python 3 (ipykernel)",
   "language": "python",
   "name": "python3"
  },
  "language_info": {
   "codemirror_mode": {
    "name": "ipython",
    "version": 3
   },
   "file_extension": ".py",
   "mimetype": "text/x-python",
   "name": "python",
   "nbconvert_exporter": "python",
   "pygments_lexer": "ipython3",
   "version": "3.8.10"
  }
 },
 "nbformat": 4,
 "nbformat_minor": 5
}
